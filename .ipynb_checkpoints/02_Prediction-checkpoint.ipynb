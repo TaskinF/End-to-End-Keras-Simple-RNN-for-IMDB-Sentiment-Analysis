{
 "cells": [
  {
   "cell_type": "code",
   "execution_count": 1,
   "id": "b18257d8-75eb-400c-a0c3-51fdafe06f23",
   "metadata": {},
   "outputs": [],
   "source": [
    "import numpy as np\n",
    "import tensorflow as tf\n",
    "from tensorflow.keras.datasets import imdb\n",
    "from tensorflow.keras.preprocessing import sequence\n",
    "from tensorflow.keras.models import load_model"
   ]
  },
  {
   "cell_type": "code",
   "execution_count": 2,
   "id": "7c39ddd4-a382-4907-b4f0-d14b6d6bde9c",
   "metadata": {},
   "outputs": [],
   "source": [
    "# Load the IMDB dataset word index\n",
    "word_index = imdb.get_word_index()\n",
    "reverse_word_index = {value: key for key, value in word_index.items()}"
   ]
  },
  {
   "cell_type": "code",
   "execution_count": 3,
   "id": "0293d75f-493a-4fb6-951b-f051578a557a",
   "metadata": {},
   "outputs": [
    {
     "name": "stderr",
     "output_type": "stream",
     "text": [
      "WARNING:absl:Compiled the loaded model, but the compiled metrics have yet to be built. `model.compile_metrics` will be empty until you train or evaluate the model.\n"
     ]
    },
    {
     "data": {
      "text/html": [
       "<pre style=\"white-space:pre;overflow-x:auto;line-height:normal;font-family:Menlo,'DejaVu Sans Mono',consolas,'Courier New',monospace\"><span style=\"font-weight: bold\">Model: \"sequential\"</span>\n",
       "</pre>\n"
      ],
      "text/plain": [
       "\u001b[1mModel: \"sequential\"\u001b[0m\n"
      ]
     },
     "metadata": {},
     "output_type": "display_data"
    },
    {
     "data": {
      "text/html": [
       "<pre style=\"white-space:pre;overflow-x:auto;line-height:normal;font-family:Menlo,'DejaVu Sans Mono',consolas,'Courier New',monospace\">┏━━━━━━━━━━━━━━━━━━━━━━━━━━━━━━━━━━━━━━┳━━━━━━━━━━━━━━━━━━━━━━━━━━━━━┳━━━━━━━━━━━━━━━━━┓\n",
       "┃<span style=\"font-weight: bold\"> Layer (type)                         </span>┃<span style=\"font-weight: bold\"> Output Shape                </span>┃<span style=\"font-weight: bold\">         Param # </span>┃\n",
       "┡━━━━━━━━━━━━━━━━━━━━━━━━━━━━━━━━━━━━━━╇━━━━━━━━━━━━━━━━━━━━━━━━━━━━━╇━━━━━━━━━━━━━━━━━┩\n",
       "│ embedding (<span style=\"color: #0087ff; text-decoration-color: #0087ff\">Embedding</span>)                │ (<span style=\"color: #00d7ff; text-decoration-color: #00d7ff\">None</span>, <span style=\"color: #00af00; text-decoration-color: #00af00\">500</span>, <span style=\"color: #00af00; text-decoration-color: #00af00\">128</span>)            │       <span style=\"color: #00af00; text-decoration-color: #00af00\">1,280,000</span> │\n",
       "├──────────────────────────────────────┼─────────────────────────────┼─────────────────┤\n",
       "│ simple_rnn (<span style=\"color: #0087ff; text-decoration-color: #0087ff\">SimpleRNN</span>)               │ (<span style=\"color: #00d7ff; text-decoration-color: #00d7ff\">None</span>, <span style=\"color: #00af00; text-decoration-color: #00af00\">128</span>)                 │          <span style=\"color: #00af00; text-decoration-color: #00af00\">32,896</span> │\n",
       "├──────────────────────────────────────┼─────────────────────────────┼─────────────────┤\n",
       "│ dense (<span style=\"color: #0087ff; text-decoration-color: #0087ff\">Dense</span>)                        │ (<span style=\"color: #00d7ff; text-decoration-color: #00d7ff\">None</span>, <span style=\"color: #00af00; text-decoration-color: #00af00\">1</span>)                   │             <span style=\"color: #00af00; text-decoration-color: #00af00\">129</span> │\n",
       "└──────────────────────────────────────┴─────────────────────────────┴─────────────────┘\n",
       "</pre>\n"
      ],
      "text/plain": [
       "┏━━━━━━━━━━━━━━━━━━━━━━━━━━━━━━━━━━━━━━┳━━━━━━━━━━━━━━━━━━━━━━━━━━━━━┳━━━━━━━━━━━━━━━━━┓\n",
       "┃\u001b[1m \u001b[0m\u001b[1mLayer (type)                        \u001b[0m\u001b[1m \u001b[0m┃\u001b[1m \u001b[0m\u001b[1mOutput Shape               \u001b[0m\u001b[1m \u001b[0m┃\u001b[1m \u001b[0m\u001b[1m        Param #\u001b[0m\u001b[1m \u001b[0m┃\n",
       "┡━━━━━━━━━━━━━━━━━━━━━━━━━━━━━━━━━━━━━━╇━━━━━━━━━━━━━━━━━━━━━━━━━━━━━╇━━━━━━━━━━━━━━━━━┩\n",
       "│ embedding (\u001b[38;5;33mEmbedding\u001b[0m)                │ (\u001b[38;5;45mNone\u001b[0m, \u001b[38;5;34m500\u001b[0m, \u001b[38;5;34m128\u001b[0m)            │       \u001b[38;5;34m1,280,000\u001b[0m │\n",
       "├──────────────────────────────────────┼─────────────────────────────┼─────────────────┤\n",
       "│ simple_rnn (\u001b[38;5;33mSimpleRNN\u001b[0m)               │ (\u001b[38;5;45mNone\u001b[0m, \u001b[38;5;34m128\u001b[0m)                 │          \u001b[38;5;34m32,896\u001b[0m │\n",
       "├──────────────────────────────────────┼─────────────────────────────┼─────────────────┤\n",
       "│ dense (\u001b[38;5;33mDense\u001b[0m)                        │ (\u001b[38;5;45mNone\u001b[0m, \u001b[38;5;34m1\u001b[0m)                   │             \u001b[38;5;34m129\u001b[0m │\n",
       "└──────────────────────────────────────┴─────────────────────────────┴─────────────────┘\n"
      ]
     },
     "metadata": {},
     "output_type": "display_data"
    },
    {
     "data": {
      "text/html": [
       "<pre style=\"white-space:pre;overflow-x:auto;line-height:normal;font-family:Menlo,'DejaVu Sans Mono',consolas,'Courier New',monospace\"><span style=\"font-weight: bold\"> Total params: </span><span style=\"color: #00af00; text-decoration-color: #00af00\">1,313,027</span> (5.01 MB)\n",
       "</pre>\n"
      ],
      "text/plain": [
       "\u001b[1m Total params: \u001b[0m\u001b[38;5;34m1,313,027\u001b[0m (5.01 MB)\n"
      ]
     },
     "metadata": {},
     "output_type": "display_data"
    },
    {
     "data": {
      "text/html": [
       "<pre style=\"white-space:pre;overflow-x:auto;line-height:normal;font-family:Menlo,'DejaVu Sans Mono',consolas,'Courier New',monospace\"><span style=\"font-weight: bold\"> Trainable params: </span><span style=\"color: #00af00; text-decoration-color: #00af00\">1,313,025</span> (5.01 MB)\n",
       "</pre>\n"
      ],
      "text/plain": [
       "\u001b[1m Trainable params: \u001b[0m\u001b[38;5;34m1,313,025\u001b[0m (5.01 MB)\n"
      ]
     },
     "metadata": {},
     "output_type": "display_data"
    },
    {
     "data": {
      "text/html": [
       "<pre style=\"white-space:pre;overflow-x:auto;line-height:normal;font-family:Menlo,'DejaVu Sans Mono',consolas,'Courier New',monospace\"><span style=\"font-weight: bold\"> Non-trainable params: </span><span style=\"color: #00af00; text-decoration-color: #00af00\">0</span> (0.00 B)\n",
       "</pre>\n"
      ],
      "text/plain": [
       "\u001b[1m Non-trainable params: \u001b[0m\u001b[38;5;34m0\u001b[0m (0.00 B)\n"
      ]
     },
     "metadata": {},
     "output_type": "display_data"
    },
    {
     "data": {
      "text/html": [
       "<pre style=\"white-space:pre;overflow-x:auto;line-height:normal;font-family:Menlo,'DejaVu Sans Mono',consolas,'Courier New',monospace\"><span style=\"font-weight: bold\"> Optimizer params: </span><span style=\"color: #00af00; text-decoration-color: #00af00\">2</span> (12.00 B)\n",
       "</pre>\n"
      ],
      "text/plain": [
       "\u001b[1m Optimizer params: \u001b[0m\u001b[38;5;34m2\u001b[0m (12.00 B)\n"
      ]
     },
     "metadata": {},
     "output_type": "display_data"
    }
   ],
   "source": [
    "# Load the pre-trained model with ReLU activation\n",
    "model = load_model('imdb_simple_rnn.h5')\n",
    "model.summary()"
   ]
  },
  {
   "cell_type": "code",
   "execution_count": 4,
   "id": "b1dca4e2-7659-44a8-9ca7-dd88fed642a7",
   "metadata": {},
   "outputs": [
    {
     "data": {
      "text/plain": [
       "[array([[-0.62613034, -1.0741612 , -1.0078104 , ..., -0.8727275 ,\n",
       "         -0.92402244,  0.9155982 ],\n",
       "        [ 0.00437727,  0.01668393, -0.07193124, ...,  0.01143527,\n",
       "          0.01404616, -0.0079669 ],\n",
       "        [ 0.15433021,  0.14834237,  0.03541118, ...,  0.06586424,\n",
       "          0.11815315, -0.16556382],\n",
       "        ...,\n",
       "        [-0.04074721, -0.03446465, -0.07952628, ..., -0.0439082 ,\n",
       "         -0.02803624,  0.04616555],\n",
       "        [-0.02384141, -0.10097604,  0.0180727 , ..., -0.03644872,\n",
       "         -0.04013492,  0.09285205],\n",
       "        [ 0.0205295 ,  0.05870753,  0.09094359, ...,  0.05009408,\n",
       "          0.00377109,  0.02486269]], dtype=float32),\n",
       " array([[ 0.05847511, -0.12991755, -0.00311872, ..., -0.14518924,\n",
       "         -0.00383218, -0.04470119],\n",
       "        [ 0.18170504, -0.06532501, -0.16821896, ...,  0.02693762,\n",
       "         -0.01178683,  0.0283476 ],\n",
       "        [ 0.17738347, -0.06092531, -0.12525822, ..., -0.07945719,\n",
       "         -0.00405589, -0.02193034],\n",
       "        ...,\n",
       "        [-0.01367375,  0.18602459, -0.19394329, ..., -0.07899061,\n",
       "          0.0651456 ,  0.00791538],\n",
       "        [ 0.07894759, -0.04858335, -0.12962352, ...,  0.08982632,\n",
       "          0.04187855, -0.11949474],\n",
       "        [-0.13672377, -0.0567335 ,  0.14463218, ..., -0.10300843,\n",
       "          0.09332491, -0.09312819]], dtype=float32),\n",
       " array([[-0.17839119,  0.10398231,  0.12692241, ..., -0.10102186,\n",
       "          0.08564442, -0.18237163],\n",
       "        [-0.01509238, -0.08592905, -0.0956836 , ..., -0.02811248,\n",
       "          0.05897233, -0.08982128],\n",
       "        [ 0.16378172,  0.18089361, -0.01008735, ...,  0.04772124,\n",
       "          0.03006969,  0.25662428],\n",
       "        ...,\n",
       "        [ 0.02291175,  0.1336606 , -0.03281781, ..., -0.15312089,\n",
       "         -0.06568136,  0.04735988],\n",
       "        [-0.05995502,  0.03605124, -0.00945987, ...,  0.02608431,\n",
       "          0.15756403,  0.11301287],\n",
       "        [-0.07665061,  0.1135844 , -0.13213925, ...,  0.03249634,\n",
       "          0.10952055, -0.09899992]], dtype=float32),\n",
       " array([-0.01587666,  0.01884764,  0.01800847,  0.03399168, -0.01210445,\n",
       "         0.02734408, -0.03746563, -0.01328833, -0.03407429, -0.03587321,\n",
       "         0.02616179, -0.09274331, -0.03547673, -0.08641835, -0.0096949 ,\n",
       "        -0.06762313, -0.00742421, -0.03814479, -0.01805335,  0.0690003 ,\n",
       "         0.06274962, -0.03915175,  0.04030455, -0.06808432,  0.00657815,\n",
       "        -0.01180202, -0.00480129, -0.06005311,  0.01438457, -0.08111946,\n",
       "        -0.08338314, -0.01011381, -0.07477969, -0.06659889, -0.00425028,\n",
       "         0.00488677, -0.01330279,  0.04276779,  0.06521172, -0.03890375,\n",
       "         0.01418193, -0.01119814,  0.09360301, -0.0795626 , -0.02474997,\n",
       "        -0.01565914, -0.02594509,  0.03292333, -0.09041006, -0.06166703,\n",
       "        -0.0472542 , -0.03977284, -0.00115427, -0.04718769,  0.01972406,\n",
       "        -0.05795958, -0.10661161, -0.04610056,  0.06822331, -0.01208269,\n",
       "        -0.02489216, -0.01717049, -0.0584681 , -0.05732775, -0.03149958,\n",
       "         0.01965892, -0.08957323, -0.0098867 , -0.04433956, -0.06145476,\n",
       "        -0.0344859 ,  0.01273626, -0.04407733, -0.00053862, -0.04731337,\n",
       "         0.03743733, -0.02883556,  0.08160073, -0.02096179,  0.05678562,\n",
       "        -0.11278848,  0.01617181, -0.09726031, -0.00170777, -0.02190559,\n",
       "        -0.08184133,  0.01346453, -0.00465501,  0.03050976,  0.05848911,\n",
       "        -0.01186999, -0.0294672 ,  0.06703181, -0.03523447, -0.01592861,\n",
       "         0.06131021, -0.03212747, -0.00917835, -0.03023628, -0.01616288,\n",
       "        -0.06790581, -0.02712317, -0.02643263, -0.03688239, -0.00949738,\n",
       "        -0.03660308, -0.00701318, -0.01749431,  0.01243259,  0.07157241,\n",
       "        -0.02860551,  0.02425766,  0.01353562, -0.03897311,  0.01449551,\n",
       "         0.02800489, -0.00349766, -0.06521757, -0.0480948 , -0.00733517,\n",
       "        -0.01115251, -0.06362878, -0.01803221, -0.05527592, -0.04567557,\n",
       "        -0.00077959,  0.02568071, -0.00038297], dtype=float32),\n",
       " array([[-0.01149657],\n",
       "        [ 0.10650401],\n",
       "        [-0.04864973],\n",
       "        [-0.17965952],\n",
       "        [-0.02313603],\n",
       "        [-0.21941555],\n",
       "        [ 0.05286755],\n",
       "        [ 0.03743281],\n",
       "        [ 0.00992653],\n",
       "        [ 0.15249711],\n",
       "        [ 0.12122868],\n",
       "        [-0.13737632],\n",
       "        [ 0.15430509],\n",
       "        [-0.19323398],\n",
       "        [ 0.04122658],\n",
       "        [-0.03422138],\n",
       "        [-0.14041555],\n",
       "        [-0.23513176],\n",
       "        [-0.29918706],\n",
       "        [-0.17641926],\n",
       "        [-0.5769101 ],\n",
       "        [ 0.16955246],\n",
       "        [-0.13523081],\n",
       "        [-0.00917555],\n",
       "        [-0.00910087],\n",
       "        [-0.10850307],\n",
       "        [-0.14638565],\n",
       "        [-0.03857504],\n",
       "        [-0.08872267],\n",
       "        [-0.09043081],\n",
       "        [-0.12572074],\n",
       "        [ 0.46109667],\n",
       "        [ 0.05168995],\n",
       "        [-0.08126698],\n",
       "        [ 0.05669337],\n",
       "        [-0.00193767],\n",
       "        [ 0.2250697 ],\n",
       "        [-0.09755894],\n",
       "        [ 0.05928335],\n",
       "        [-0.3122878 ],\n",
       "        [-0.12643261],\n",
       "        [ 0.07331026],\n",
       "        [-0.12439311],\n",
       "        [ 0.09212185],\n",
       "        [-0.36140177],\n",
       "        [-0.4191692 ],\n",
       "        [-0.14191048],\n",
       "        [ 0.11872176],\n",
       "        [-0.1490273 ],\n",
       "        [ 0.01376776],\n",
       "        [ 0.09082622],\n",
       "        [-0.15316825],\n",
       "        [ 0.09630023],\n",
       "        [-0.1086966 ],\n",
       "        [-0.1996191 ],\n",
       "        [-0.03439171],\n",
       "        [ 0.3245497 ],\n",
       "        [-0.2926668 ],\n",
       "        [ 0.08414342],\n",
       "        [ 0.17765495],\n",
       "        [-0.18547246],\n",
       "        [ 0.16957872],\n",
       "        [ 0.1603745 ],\n",
       "        [ 0.00283638],\n",
       "        [-0.26230574],\n",
       "        [ 0.23159184],\n",
       "        [ 0.14737795],\n",
       "        [-0.2355481 ],\n",
       "        [-0.4513489 ],\n",
       "        [-0.0568017 ],\n",
       "        [ 0.12510186],\n",
       "        [ 0.0081825 ],\n",
       "        [ 0.11702136],\n",
       "        [-0.01878107],\n",
       "        [-0.07398733],\n",
       "        [-0.02766211],\n",
       "        [-0.3265492 ],\n",
       "        [ 0.18378669],\n",
       "        [-0.0565504 ],\n",
       "        [ 0.16138968],\n",
       "        [ 0.06273317],\n",
       "        [ 0.08131447],\n",
       "        [-0.23077188],\n",
       "        [-0.09240952],\n",
       "        [-0.24901065],\n",
       "        [ 0.08659144],\n",
       "        [ 0.06318697],\n",
       "        [ 0.01531616],\n",
       "        [ 0.05140801],\n",
       "        [ 0.08996079],\n",
       "        [ 0.04077195],\n",
       "        [ 0.20300896],\n",
       "        [ 0.1191218 ],\n",
       "        [-0.0772865 ],\n",
       "        [ 0.02416323],\n",
       "        [-0.06799789],\n",
       "        [ 0.06182047],\n",
       "        [-0.35464743],\n",
       "        [-0.08739866],\n",
       "        [ 0.15489282],\n",
       "        [-0.13107643],\n",
       "        [ 0.20834137],\n",
       "        [ 0.1489796 ],\n",
       "        [ 0.0349401 ],\n",
       "        [-0.17487156],\n",
       "        [-0.03887805],\n",
       "        [ 0.23699819],\n",
       "        [-0.00397267],\n",
       "        [ 0.15851933],\n",
       "        [-0.09386282],\n",
       "        [-0.28107432],\n",
       "        [ 0.09843428],\n",
       "        [ 0.00632548],\n",
       "        [ 0.02801277],\n",
       "        [-0.18195629],\n",
       "        [ 0.06830837],\n",
       "        [-0.2348516 ],\n",
       "        [ 0.02007056],\n",
       "        [-0.27145347],\n",
       "        [-0.01365935],\n",
       "        [ 0.09166094],\n",
       "        [-0.15204541],\n",
       "        [ 0.14954653],\n",
       "        [-0.43495733],\n",
       "        [ 0.2562102 ],\n",
       "        [-0.1377518 ],\n",
       "        [ 0.0721831 ],\n",
       "        [ 0.14356768]], dtype=float32),\n",
       " array([-0.31703812], dtype=float32)]"
      ]
     },
     "execution_count": 4,
     "metadata": {},
     "output_type": "execute_result"
    }
   ],
   "source": [
    "model.get_weights()"
   ]
  },
  {
   "cell_type": "code",
   "execution_count": 5,
   "id": "214dced6-2c24-4697-96ef-c26e1e403f1d",
   "metadata": {},
   "outputs": [],
   "source": [
    "# Function to decode reviews\n",
    "def decode_review(encoded_review):\n",
    "    return ' '.join([reverse_word_index.get(i - 3, '?') for i in encoded_review])\n",
    "\n",
    "# Function to preprocess user input\n",
    "def preprocess_text(text):\n",
    "    words = text.lower().split()\n",
    "    encoded_review = [word_index.get(word, 2) + 3 for word in words]\n",
    "    padded_review = sequence.pad_sequences([encoded_review], maxlen=500)\n",
    "    return padded_review"
   ]
  },
  {
   "cell_type": "code",
   "execution_count": 6,
   "id": "b74640a5-b507-44c6-9510-8d149380de5f",
   "metadata": {},
   "outputs": [],
   "source": [
    "# Prediction  function\n",
    "def predict_sentiment(review):\n",
    "    preprocessed_input=preprocess_text(review)\n",
    "\n",
    "    prediction=model.predict(preprocessed_input)\n",
    "\n",
    "    sentiment = 'Positive' if prediction[0][0] > 0.5 else 'Negative'\n",
    "    \n",
    "    return sentiment, prediction[0][0]"
   ]
  },
  {
   "cell_type": "code",
   "execution_count": 8,
   "id": "484fc0d2-13bf-46bb-8205-e6a48d279cc5",
   "metadata": {},
   "outputs": [
    {
     "name": "stdout",
     "output_type": "stream",
     "text": [
      "\u001b[1m1/1\u001b[0m \u001b[32m━━━━━━━━━━━━━━━━━━━━\u001b[0m\u001b[37m\u001b[0m \u001b[1m0s\u001b[0m 25ms/step\n",
      "Review: This movie was fantastic! The acting was great and the plot was thrilling.\n",
      "Sentiment: Negative\n",
      "Prediction Score: 0.15191170573234558\n"
     ]
    }
   ],
   "source": [
    "# Example review for prediction\n",
    "example_review = \"This movie was fantastic! The acting was great and the plot was thrilling.\"\n",
    "\n",
    "sentiment,score=predict_sentiment(example_review)\n",
    "\n",
    "print(f'Review: {example_review}')\n",
    "print(f'Sentiment: {sentiment}')\n",
    "print(f'Prediction Score: {score}')"
   ]
  }
 ],
 "metadata": {
  "kernelspec": {
   "display_name": "Python (3.12.5)",
   "language": "python",
   "name": "3.12.5"
  },
  "language_info": {
   "codemirror_mode": {
    "name": "ipython",
    "version": 3
   },
   "file_extension": ".py",
   "mimetype": "text/x-python",
   "name": "python",
   "nbconvert_exporter": "python",
   "pygments_lexer": "ipython3",
   "version": "3.12.5"
  }
 },
 "nbformat": 4,
 "nbformat_minor": 5
}
