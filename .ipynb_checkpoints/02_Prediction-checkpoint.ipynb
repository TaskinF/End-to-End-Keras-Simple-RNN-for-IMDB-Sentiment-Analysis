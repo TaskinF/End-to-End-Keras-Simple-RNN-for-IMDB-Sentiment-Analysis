{
 "cells": [
  {
   "cell_type": "code",
   "execution_count": 1,
   "id": "b18257d8-75eb-400c-a0c3-51fdafe06f23",
   "metadata": {},
   "outputs": [],
   "source": [
    "import numpy as np\n",
    "import tensorflow as tf\n",
    "from tensorflow.keras.datasets import imdb\n",
    "from tensorflow.keras.preprocessing import sequence\n",
    "from tensorflow.keras.models import load_model"
   ]
  },
  {
   "cell_type": "code",
   "execution_count": 2,
   "id": "7c39ddd4-a382-4907-b4f0-d14b6d6bde9c",
   "metadata": {},
   "outputs": [],
   "source": [
    "# Load the IMDB dataset word index\n",
    "word_index = imdb.get_word_index()\n",
    "reverse_word_index = {value: key for key, value in word_index.items()}"
   ]
  },
  {
   "cell_type": "code",
   "execution_count": 3,
   "id": "0293d75f-493a-4fb6-951b-f051578a557a",
   "metadata": {},
   "outputs": [
    {
     "name": "stderr",
     "output_type": "stream",
     "text": [
      "WARNING:absl:Compiled the loaded model, but the compiled metrics have yet to be built. `model.compile_metrics` will be empty until you train or evaluate the model.\n"
     ]
    },
    {
     "data": {
      "text/html": [
       "<pre style=\"white-space:pre;overflow-x:auto;line-height:normal;font-family:Menlo,'DejaVu Sans Mono',consolas,'Courier New',monospace\"><span style=\"font-weight: bold\">Model: \"sequential\"</span>\n",
       "</pre>\n"
      ],
      "text/plain": [
       "\u001b[1mModel: \"sequential\"\u001b[0m\n"
      ]
     },
     "metadata": {},
     "output_type": "display_data"
    },
    {
     "data": {
      "text/html": [
       "<pre style=\"white-space:pre;overflow-x:auto;line-height:normal;font-family:Menlo,'DejaVu Sans Mono',consolas,'Courier New',monospace\">┏━━━━━━━━━━━━━━━━━━━━━━━━━━━━━━━━━━━━━━┳━━━━━━━━━━━━━━━━━━━━━━━━━━━━━┳━━━━━━━━━━━━━━━━━┓\n",
       "┃<span style=\"font-weight: bold\"> Layer (type)                         </span>┃<span style=\"font-weight: bold\"> Output Shape                </span>┃<span style=\"font-weight: bold\">         Param # </span>┃\n",
       "┡━━━━━━━━━━━━━━━━━━━━━━━━━━━━━━━━━━━━━━╇━━━━━━━━━━━━━━━━━━━━━━━━━━━━━╇━━━━━━━━━━━━━━━━━┩\n",
       "│ embedding (<span style=\"color: #0087ff; text-decoration-color: #0087ff\">Embedding</span>)                │ (<span style=\"color: #00d7ff; text-decoration-color: #00d7ff\">None</span>, <span style=\"color: #00af00; text-decoration-color: #00af00\">500</span>, <span style=\"color: #00af00; text-decoration-color: #00af00\">128</span>)            │       <span style=\"color: #00af00; text-decoration-color: #00af00\">1,280,000</span> │\n",
       "├──────────────────────────────────────┼─────────────────────────────┼─────────────────┤\n",
       "│ simple_rnn (<span style=\"color: #0087ff; text-decoration-color: #0087ff\">SimpleRNN</span>)               │ (<span style=\"color: #00d7ff; text-decoration-color: #00d7ff\">None</span>, <span style=\"color: #00af00; text-decoration-color: #00af00\">128</span>)                 │          <span style=\"color: #00af00; text-decoration-color: #00af00\">32,896</span> │\n",
       "├──────────────────────────────────────┼─────────────────────────────┼─────────────────┤\n",
       "│ dense (<span style=\"color: #0087ff; text-decoration-color: #0087ff\">Dense</span>)                        │ (<span style=\"color: #00d7ff; text-decoration-color: #00d7ff\">None</span>, <span style=\"color: #00af00; text-decoration-color: #00af00\">1</span>)                   │             <span style=\"color: #00af00; text-decoration-color: #00af00\">129</span> │\n",
       "└──────────────────────────────────────┴─────────────────────────────┴─────────────────┘\n",
       "</pre>\n"
      ],
      "text/plain": [
       "┏━━━━━━━━━━━━━━━━━━━━━━━━━━━━━━━━━━━━━━┳━━━━━━━━━━━━━━━━━━━━━━━━━━━━━┳━━━━━━━━━━━━━━━━━┓\n",
       "┃\u001b[1m \u001b[0m\u001b[1mLayer (type)                        \u001b[0m\u001b[1m \u001b[0m┃\u001b[1m \u001b[0m\u001b[1mOutput Shape               \u001b[0m\u001b[1m \u001b[0m┃\u001b[1m \u001b[0m\u001b[1m        Param #\u001b[0m\u001b[1m \u001b[0m┃\n",
       "┡━━━━━━━━━━━━━━━━━━━━━━━━━━━━━━━━━━━━━━╇━━━━━━━━━━━━━━━━━━━━━━━━━━━━━╇━━━━━━━━━━━━━━━━━┩\n",
       "│ embedding (\u001b[38;5;33mEmbedding\u001b[0m)                │ (\u001b[38;5;45mNone\u001b[0m, \u001b[38;5;34m500\u001b[0m, \u001b[38;5;34m128\u001b[0m)            │       \u001b[38;5;34m1,280,000\u001b[0m │\n",
       "├──────────────────────────────────────┼─────────────────────────────┼─────────────────┤\n",
       "│ simple_rnn (\u001b[38;5;33mSimpleRNN\u001b[0m)               │ (\u001b[38;5;45mNone\u001b[0m, \u001b[38;5;34m128\u001b[0m)                 │          \u001b[38;5;34m32,896\u001b[0m │\n",
       "├──────────────────────────────────────┼─────────────────────────────┼─────────────────┤\n",
       "│ dense (\u001b[38;5;33mDense\u001b[0m)                        │ (\u001b[38;5;45mNone\u001b[0m, \u001b[38;5;34m1\u001b[0m)                   │             \u001b[38;5;34m129\u001b[0m │\n",
       "└──────────────────────────────────────┴─────────────────────────────┴─────────────────┘\n"
      ]
     },
     "metadata": {},
     "output_type": "display_data"
    },
    {
     "data": {
      "text/html": [
       "<pre style=\"white-space:pre;overflow-x:auto;line-height:normal;font-family:Menlo,'DejaVu Sans Mono',consolas,'Courier New',monospace\"><span style=\"font-weight: bold\"> Total params: </span><span style=\"color: #00af00; text-decoration-color: #00af00\">1,313,027</span> (5.01 MB)\n",
       "</pre>\n"
      ],
      "text/plain": [
       "\u001b[1m Total params: \u001b[0m\u001b[38;5;34m1,313,027\u001b[0m (5.01 MB)\n"
      ]
     },
     "metadata": {},
     "output_type": "display_data"
    },
    {
     "data": {
      "text/html": [
       "<pre style=\"white-space:pre;overflow-x:auto;line-height:normal;font-family:Menlo,'DejaVu Sans Mono',consolas,'Courier New',monospace\"><span style=\"font-weight: bold\"> Trainable params: </span><span style=\"color: #00af00; text-decoration-color: #00af00\">1,313,025</span> (5.01 MB)\n",
       "</pre>\n"
      ],
      "text/plain": [
       "\u001b[1m Trainable params: \u001b[0m\u001b[38;5;34m1,313,025\u001b[0m (5.01 MB)\n"
      ]
     },
     "metadata": {},
     "output_type": "display_data"
    },
    {
     "data": {
      "text/html": [
       "<pre style=\"white-space:pre;overflow-x:auto;line-height:normal;font-family:Menlo,'DejaVu Sans Mono',consolas,'Courier New',monospace\"><span style=\"font-weight: bold\"> Non-trainable params: </span><span style=\"color: #00af00; text-decoration-color: #00af00\">0</span> (0.00 B)\n",
       "</pre>\n"
      ],
      "text/plain": [
       "\u001b[1m Non-trainable params: \u001b[0m\u001b[38;5;34m0\u001b[0m (0.00 B)\n"
      ]
     },
     "metadata": {},
     "output_type": "display_data"
    },
    {
     "data": {
      "text/html": [
       "<pre style=\"white-space:pre;overflow-x:auto;line-height:normal;font-family:Menlo,'DejaVu Sans Mono',consolas,'Courier New',monospace\"><span style=\"font-weight: bold\"> Optimizer params: </span><span style=\"color: #00af00; text-decoration-color: #00af00\">2</span> (12.00 B)\n",
       "</pre>\n"
      ],
      "text/plain": [
       "\u001b[1m Optimizer params: \u001b[0m\u001b[38;5;34m2\u001b[0m (12.00 B)\n"
      ]
     },
     "metadata": {},
     "output_type": "display_data"
    }
   ],
   "source": [
    "# Load the pre-trained model with ReLU activation\n",
    "model = load_model('imdb_simple_rnn.h5')\n",
    "model.summary()"
   ]
  },
  {
   "cell_type": "code",
   "execution_count": 4,
   "id": "b1dca4e2-7659-44a8-9ca7-dd88fed642a7",
   "metadata": {},
   "outputs": [
    {
     "data": {
      "text/plain": [
       "[array([[-0.25043994, -0.09273899,  0.10967747, ...,  0.04230264,\n",
       "          0.18778129,  0.04584958],\n",
       "        [-0.02873443, -0.00907141,  0.05578087, ..., -0.07587086,\n",
       "          0.0232698 , -0.00537429],\n",
       "        [-0.02093341,  0.02388492, -0.01504495, ...,  0.00678579,\n",
       "          0.04744167, -0.06928561],\n",
       "        ...,\n",
       "        [ 0.00918878,  0.0429785 , -0.01941616, ..., -0.01208615,\n",
       "         -0.01555874,  0.01757647],\n",
       "        [ 0.07313694,  0.03473559, -0.00836669, ...,  0.03256018,\n",
       "         -0.06210837,  0.02936436],\n",
       "        [-0.00551754, -0.00414846, -0.07159943, ...,  0.02960149,\n",
       "         -0.0618054 , -0.06753253]], dtype=float32),\n",
       " array([[ 0.0323192 , -0.04775406,  0.15210201, ...,  0.07122656,\n",
       "          0.21253836,  0.07536246],\n",
       "        [-0.14737198, -0.09447331, -0.07448702, ..., -0.02258878,\n",
       "          0.16204251, -0.07584386],\n",
       "        [ 0.09388806, -0.10846055,  0.0578266 , ..., -0.14263676,\n",
       "          0.16155872, -0.18536839],\n",
       "        ...,\n",
       "        [-0.00525281,  0.08877516, -0.04764851, ...,  0.02211427,\n",
       "          0.07479485, -0.087348  ],\n",
       "        [-0.09852788,  0.08329208,  0.11501265, ..., -0.31304386,\n",
       "         -0.04175209, -0.00517227],\n",
       "        [-0.09557612,  0.05476727,  0.06553689, ...,  0.07226988,\n",
       "          0.13502343,  0.09574355]], dtype=float32),\n",
       " array([[-0.06656633,  0.10856022,  0.03286303, ...,  0.02399587,\n",
       "         -0.02371045,  0.05320939],\n",
       "        [-0.0248371 ,  0.1446793 , -0.02386015, ...,  0.05254582,\n",
       "          0.06667963, -0.00521868],\n",
       "        [ 0.05863092,  0.05860799, -0.04634663, ...,  0.18559134,\n",
       "         -0.04263881,  0.15850306],\n",
       "        ...,\n",
       "        [-0.06321486, -0.06069351,  0.0561752 , ..., -0.02350813,\n",
       "         -0.01453375,  0.07140384],\n",
       "        [ 0.06537794,  0.11343557,  0.01077137, ..., -0.19625139,\n",
       "          0.04729498,  0.05853204],\n",
       "        [ 0.14767076,  0.00250168,  0.18506724, ...,  0.01490293,\n",
       "         -0.11654787, -0.19705784]], dtype=float32),\n",
       " array([ 0.01190796,  0.02657432,  0.02628765,  0.03920702,  0.03397343,\n",
       "         0.00269774, -0.02323425,  0.01338635, -0.02655512, -0.03707256,\n",
       "        -0.04605991, -0.00406013,  0.00221754,  0.00169418,  0.02319911,\n",
       "         0.03270502,  0.0318044 , -0.04464837,  0.06069043, -0.01759416,\n",
       "         0.04609002, -0.04799936,  0.00609431,  0.00022316,  0.0400013 ,\n",
       "        -0.02335225, -0.01089763,  0.0199419 , -0.04508376, -0.05143579,\n",
       "        -0.00894057, -0.01840887,  0.04528918,  0.00746536,  0.01251422,\n",
       "         0.0024232 ,  0.01154323,  0.05938225, -0.0464221 , -0.05039301,\n",
       "         0.01999857,  0.00704833, -0.03631124,  0.03878219, -0.04224885,\n",
       "        -0.04433275, -0.03084599,  0.03291331, -0.03428449, -0.0486279 ,\n",
       "        -0.00289022, -0.00547519, -0.03812236, -0.0074739 , -0.04607219,\n",
       "        -0.04322335, -0.01820186,  0.05056413,  0.07438821,  0.02647146,\n",
       "        -0.03775475, -0.04147495, -0.03707252, -0.01619107, -0.00185876,\n",
       "        -0.05371274,  0.04262343,  0.0064659 ,  0.00843554, -0.04579473,\n",
       "         0.02346188, -0.01339835,  0.01739384, -0.03752279,  0.00718706,\n",
       "        -0.04455326, -0.03740206,  0.03551223,  0.00762478,  0.03980053,\n",
       "        -0.035698  ,  0.00787006, -0.04845218,  0.01494903, -0.00991219,\n",
       "         0.0126746 , -0.01592222, -0.05144079,  0.00090827, -0.01451546,\n",
       "        -0.02327592,  0.00918163,  0.05550987, -0.05398974, -0.05212183,\n",
       "         0.00954138,  0.04507292,  0.04907028, -0.03722978, -0.01689717,\n",
       "         0.03506467, -0.01681469, -0.01768591, -0.02101776,  0.00427574,\n",
       "        -0.04408743, -0.04988224, -0.00618009,  0.03874652,  0.01653335,\n",
       "         0.01785441,  0.01976229, -0.03838807, -0.01252089, -0.05698272,\n",
       "         0.00209684, -0.01092926,  0.00923173,  0.01855772,  0.03891274,\n",
       "         0.00930549,  0.00722492,  0.01770489, -0.03325182,  0.0491874 ,\n",
       "        -0.02435171, -0.01622046,  0.00673895], dtype=float32),\n",
       " array([[-0.17375125],\n",
       "        [ 0.20274168],\n",
       "        [ 0.22001167],\n",
       "        [ 0.09718192],\n",
       "        [-0.01493537],\n",
       "        [-0.1885299 ],\n",
       "        [-0.08122735],\n",
       "        [-0.14727253],\n",
       "        [ 0.04213156],\n",
       "        [-0.13531817],\n",
       "        [-0.02750209],\n",
       "        [ 0.0540322 ],\n",
       "        [ 0.12006991],\n",
       "        [-0.15952772],\n",
       "        [-0.07317908],\n",
       "        [-0.45262867],\n",
       "        [-0.23782323],\n",
       "        [-0.11562268],\n",
       "        [ 0.20485428],\n",
       "        [ 0.10596193],\n",
       "        [ 0.46030536],\n",
       "        [ 0.11395298],\n",
       "        [-0.20656477],\n",
       "        [ 0.08973685],\n",
       "        [ 0.11637983],\n",
       "        [ 0.04505861],\n",
       "        [ 0.01361881],\n",
       "        [ 0.19109751],\n",
       "        [ 0.10091604],\n",
       "        [-0.00682596],\n",
       "        [-0.05892044],\n",
       "        [ 0.2161933 ],\n",
       "        [-0.09245863],\n",
       "        [-0.00976874],\n",
       "        [-0.06238448],\n",
       "        [-0.00111537],\n",
       "        [-0.21948127],\n",
       "        [ 0.00398878],\n",
       "        [-0.19863829],\n",
       "        [-0.06752887],\n",
       "        [ 0.1668722 ],\n",
       "        [-0.09005808],\n",
       "        [ 0.07693047],\n",
       "        [ 0.08902628],\n",
       "        [ 0.19106494],\n",
       "        [ 0.17643863],\n",
       "        [-0.09632849],\n",
       "        [ 0.00463639],\n",
       "        [ 0.05284334],\n",
       "        [-0.14693709],\n",
       "        [ 0.04050044],\n",
       "        [ 0.19960703],\n",
       "        [-0.17415366],\n",
       "        [-0.19856338],\n",
       "        [ 0.01063603],\n",
       "        [-0.17232542],\n",
       "        [-0.16161425],\n",
       "        [ 0.15854791],\n",
       "        [-0.17485592],\n",
       "        [-0.18623807],\n",
       "        [-0.15596472],\n",
       "        [ 0.1553046 ],\n",
       "        [-0.10918948],\n",
       "        [ 0.02984371],\n",
       "        [-0.00940911],\n",
       "        [-0.14910983],\n",
       "        [ 0.12577364],\n",
       "        [ 0.05117896],\n",
       "        [-0.08849025],\n",
       "        [-0.15500188],\n",
       "        [ 0.04115463],\n",
       "        [-0.02621741],\n",
       "        [ 0.05681257],\n",
       "        [-0.24678762],\n",
       "        [-0.10668334],\n",
       "        [-0.02639802],\n",
       "        [-0.08843718],\n",
       "        [-0.17044416],\n",
       "        [-0.02788619],\n",
       "        [ 0.18914494],\n",
       "        [ 0.19086453],\n",
       "        [ 0.07798234],\n",
       "        [-0.04283413],\n",
       "        [-0.04115523],\n",
       "        [ 0.20056765],\n",
       "        [ 0.05163693],\n",
       "        [-0.04246163],\n",
       "        [-0.2561322 ],\n",
       "        [-0.04612399],\n",
       "        [-0.01617667],\n",
       "        [-0.08186523],\n",
       "        [ 0.10538497],\n",
       "        [ 0.33901715],\n",
       "        [-0.49677935],\n",
       "        [-0.16617192],\n",
       "        [ 0.24252291],\n",
       "        [-0.21792373],\n",
       "        [ 0.10793017],\n",
       "        [-0.24404943],\n",
       "        [ 0.06665017],\n",
       "        [ 0.18696128],\n",
       "        [ 0.01238614],\n",
       "        [-0.18802628],\n",
       "        [ 0.04781075],\n",
       "        [-0.0133532 ],\n",
       "        [ 0.0568501 ],\n",
       "        [-0.38587102],\n",
       "        [-0.06140521],\n",
       "        [ 0.09902234],\n",
       "        [ 0.14750266],\n",
       "        [ 0.09898739],\n",
       "        [ 0.11048092],\n",
       "        [-0.09995034],\n",
       "        [ 0.02988771],\n",
       "        [-0.14473212],\n",
       "        [-0.10780075],\n",
       "        [ 0.02257133],\n",
       "        [ 0.1836235 ],\n",
       "        [ 0.19432822],\n",
       "        [ 0.1163609 ],\n",
       "        [ 0.09093485],\n",
       "        [-0.18681656],\n",
       "        [-0.16081625],\n",
       "        [-0.18499321],\n",
       "        [ 0.10618726],\n",
       "        [-0.11423314],\n",
       "        [-0.0779734 ],\n",
       "        [ 0.0421026 ]], dtype=float32),\n",
       " array([-0.34308028], dtype=float32)]"
      ]
     },
     "execution_count": 4,
     "metadata": {},
     "output_type": "execute_result"
    }
   ],
   "source": [
    "model.get_weights()"
   ]
  },
  {
   "cell_type": "code",
   "execution_count": 5,
   "id": "214dced6-2c24-4697-96ef-c26e1e403f1d",
   "metadata": {},
   "outputs": [],
   "source": [
    "# Function to decode reviews\n",
    "def decode_review(encoded_review):\n",
    "    return ' '.join([reverse_word_index.get(i - 3, '?') for i in encoded_review])\n",
    "\n",
    "# Function to preprocess user input\n",
    "def preprocess_text(text):\n",
    "    words = text.lower().split()\n",
    "    encoded_review = [word_index.get(word, 2) + 3 for word in words]\n",
    "    padded_review = sequence.pad_sequences([encoded_review], maxlen=500)\n",
    "    return padded_review"
   ]
  },
  {
   "cell_type": "code",
   "execution_count": 6,
   "id": "b74640a5-b507-44c6-9510-8d149380de5f",
   "metadata": {},
   "outputs": [],
   "source": [
    "# Prediction  function\n",
    "def predict_sentiment(review):\n",
    "    preprocessed_input=preprocess_text(review)\n",
    "\n",
    "    prediction=model.predict(preprocessed_input)\n",
    "\n",
    "    sentiment = 'Positive' if prediction[0][0] > 0.5 else 'Negative'\n",
    "    \n",
    "    return sentiment, prediction[0][0]"
   ]
  },
  {
   "cell_type": "code",
   "execution_count": 7,
   "id": "484fc0d2-13bf-46bb-8205-e6a48d279cc5",
   "metadata": {},
   "outputs": [
    {
     "name": "stdout",
     "output_type": "stream",
     "text": [
      "\u001b[1m1/1\u001b[0m \u001b[32m━━━━━━━━━━━━━━━━━━━━\u001b[0m\u001b[37m\u001b[0m \u001b[1m0s\u001b[0m 195ms/step\n",
      "Review: This movie was fantastic! The acting was great and the plot was thrilling.\n",
      "Sentiment: Positive\n",
      "Prediction Score: 0.5460033416748047\n"
     ]
    }
   ],
   "source": [
    "# Example review for prediction\n",
    "example_review = \"This movie was fantastic! The acting was great and the plot was thrilling.\"\n",
    "\n",
    "sentiment,score=predict_sentiment(example_review)\n",
    "\n",
    "print(f'Review: {example_review}')\n",
    "print(f'Sentiment: {sentiment}')\n",
    "print(f'Prediction Score: {score}')"
   ]
  }
 ],
 "metadata": {
  "kernelspec": {
   "display_name": "Python (3.12.5)",
   "language": "python",
   "name": "3.12.5"
  },
  "language_info": {
   "codemirror_mode": {
    "name": "ipython",
    "version": 3
   },
   "file_extension": ".py",
   "mimetype": "text/x-python",
   "name": "python",
   "nbconvert_exporter": "python",
   "pygments_lexer": "ipython3",
   "version": "3.12.5"
  }
 },
 "nbformat": 4,
 "nbformat_minor": 5
}
