{
 "cells": [
  {
   "cell_type": "code",
   "execution_count": 1,
   "id": "b18257d8-75eb-400c-a0c3-51fdafe06f23",
   "metadata": {},
   "outputs": [],
   "source": [
    "import numpy as np\n",
    "import tensorflow as tf\n",
    "from tensorflow.keras.datasets import imdb\n",
    "from tensorflow.keras.preprocessing import sequence\n",
    "from tensorflow.keras.models import load_model"
   ]
  },
  {
   "cell_type": "code",
   "execution_count": 2,
   "id": "7c39ddd4-a382-4907-b4f0-d14b6d6bde9c",
   "metadata": {},
   "outputs": [],
   "source": [
    "# Load the IMDB dataset word index\n",
    "word_index = imdb.get_word_index()\n",
    "reverse_word_index = {value: key for key, value in word_index.items()}"
   ]
  },
  {
   "cell_type": "code",
   "execution_count": 3,
   "id": "0293d75f-493a-4fb6-951b-f051578a557a",
   "metadata": {},
   "outputs": [
    {
     "name": "stderr",
     "output_type": "stream",
     "text": [
      "WARNING:absl:Compiled the loaded model, but the compiled metrics have yet to be built. `model.compile_metrics` will be empty until you train or evaluate the model.\n"
     ]
    },
    {
     "data": {
      "text/html": [
       "<pre style=\"white-space:pre;overflow-x:auto;line-height:normal;font-family:Menlo,'DejaVu Sans Mono',consolas,'Courier New',monospace\"><span style=\"font-weight: bold\">Model: \"sequential\"</span>\n",
       "</pre>\n"
      ],
      "text/plain": [
       "\u001b[1mModel: \"sequential\"\u001b[0m\n"
      ]
     },
     "metadata": {},
     "output_type": "display_data"
    },
    {
     "data": {
      "text/html": [
       "<pre style=\"white-space:pre;overflow-x:auto;line-height:normal;font-family:Menlo,'DejaVu Sans Mono',consolas,'Courier New',monospace\">┏━━━━━━━━━━━━━━━━━━━━━━━━━━━━━━━━━━━━━━┳━━━━━━━━━━━━━━━━━━━━━━━━━━━━━┳━━━━━━━━━━━━━━━━━┓\n",
       "┃<span style=\"font-weight: bold\"> Layer (type)                         </span>┃<span style=\"font-weight: bold\"> Output Shape                </span>┃<span style=\"font-weight: bold\">         Param # </span>┃\n",
       "┡━━━━━━━━━━━━━━━━━━━━━━━━━━━━━━━━━━━━━━╇━━━━━━━━━━━━━━━━━━━━━━━━━━━━━╇━━━━━━━━━━━━━━━━━┩\n",
       "│ embedding (<span style=\"color: #0087ff; text-decoration-color: #0087ff\">Embedding</span>)                │ (<span style=\"color: #00d7ff; text-decoration-color: #00d7ff\">None</span>, <span style=\"color: #00af00; text-decoration-color: #00af00\">500</span>, <span style=\"color: #00af00; text-decoration-color: #00af00\">128</span>)            │       <span style=\"color: #00af00; text-decoration-color: #00af00\">1,280,000</span> │\n",
       "├──────────────────────────────────────┼─────────────────────────────┼─────────────────┤\n",
       "│ simple_rnn (<span style=\"color: #0087ff; text-decoration-color: #0087ff\">SimpleRNN</span>)               │ (<span style=\"color: #00d7ff; text-decoration-color: #00d7ff\">None</span>, <span style=\"color: #00af00; text-decoration-color: #00af00\">128</span>)                 │          <span style=\"color: #00af00; text-decoration-color: #00af00\">32,896</span> │\n",
       "├──────────────────────────────────────┼─────────────────────────────┼─────────────────┤\n",
       "│ dense (<span style=\"color: #0087ff; text-decoration-color: #0087ff\">Dense</span>)                        │ (<span style=\"color: #00d7ff; text-decoration-color: #00d7ff\">None</span>, <span style=\"color: #00af00; text-decoration-color: #00af00\">1</span>)                   │             <span style=\"color: #00af00; text-decoration-color: #00af00\">129</span> │\n",
       "└──────────────────────────────────────┴─────────────────────────────┴─────────────────┘\n",
       "</pre>\n"
      ],
      "text/plain": [
       "┏━━━━━━━━━━━━━━━━━━━━━━━━━━━━━━━━━━━━━━┳━━━━━━━━━━━━━━━━━━━━━━━━━━━━━┳━━━━━━━━━━━━━━━━━┓\n",
       "┃\u001b[1m \u001b[0m\u001b[1mLayer (type)                        \u001b[0m\u001b[1m \u001b[0m┃\u001b[1m \u001b[0m\u001b[1mOutput Shape               \u001b[0m\u001b[1m \u001b[0m┃\u001b[1m \u001b[0m\u001b[1m        Param #\u001b[0m\u001b[1m \u001b[0m┃\n",
       "┡━━━━━━━━━━━━━━━━━━━━━━━━━━━━━━━━━━━━━━╇━━━━━━━━━━━━━━━━━━━━━━━━━━━━━╇━━━━━━━━━━━━━━━━━┩\n",
       "│ embedding (\u001b[38;5;33mEmbedding\u001b[0m)                │ (\u001b[38;5;45mNone\u001b[0m, \u001b[38;5;34m500\u001b[0m, \u001b[38;5;34m128\u001b[0m)            │       \u001b[38;5;34m1,280,000\u001b[0m │\n",
       "├──────────────────────────────────────┼─────────────────────────────┼─────────────────┤\n",
       "│ simple_rnn (\u001b[38;5;33mSimpleRNN\u001b[0m)               │ (\u001b[38;5;45mNone\u001b[0m, \u001b[38;5;34m128\u001b[0m)                 │          \u001b[38;5;34m32,896\u001b[0m │\n",
       "├──────────────────────────────────────┼─────────────────────────────┼─────────────────┤\n",
       "│ dense (\u001b[38;5;33mDense\u001b[0m)                        │ (\u001b[38;5;45mNone\u001b[0m, \u001b[38;5;34m1\u001b[0m)                   │             \u001b[38;5;34m129\u001b[0m │\n",
       "└──────────────────────────────────────┴─────────────────────────────┴─────────────────┘\n"
      ]
     },
     "metadata": {},
     "output_type": "display_data"
    },
    {
     "data": {
      "text/html": [
       "<pre style=\"white-space:pre;overflow-x:auto;line-height:normal;font-family:Menlo,'DejaVu Sans Mono',consolas,'Courier New',monospace\"><span style=\"font-weight: bold\"> Total params: </span><span style=\"color: #00af00; text-decoration-color: #00af00\">1,313,027</span> (5.01 MB)\n",
       "</pre>\n"
      ],
      "text/plain": [
       "\u001b[1m Total params: \u001b[0m\u001b[38;5;34m1,313,027\u001b[0m (5.01 MB)\n"
      ]
     },
     "metadata": {},
     "output_type": "display_data"
    },
    {
     "data": {
      "text/html": [
       "<pre style=\"white-space:pre;overflow-x:auto;line-height:normal;font-family:Menlo,'DejaVu Sans Mono',consolas,'Courier New',monospace\"><span style=\"font-weight: bold\"> Trainable params: </span><span style=\"color: #00af00; text-decoration-color: #00af00\">1,313,025</span> (5.01 MB)\n",
       "</pre>\n"
      ],
      "text/plain": [
       "\u001b[1m Trainable params: \u001b[0m\u001b[38;5;34m1,313,025\u001b[0m (5.01 MB)\n"
      ]
     },
     "metadata": {},
     "output_type": "display_data"
    },
    {
     "data": {
      "text/html": [
       "<pre style=\"white-space:pre;overflow-x:auto;line-height:normal;font-family:Menlo,'DejaVu Sans Mono',consolas,'Courier New',monospace\"><span style=\"font-weight: bold\"> Non-trainable params: </span><span style=\"color: #00af00; text-decoration-color: #00af00\">0</span> (0.00 B)\n",
       "</pre>\n"
      ],
      "text/plain": [
       "\u001b[1m Non-trainable params: \u001b[0m\u001b[38;5;34m0\u001b[0m (0.00 B)\n"
      ]
     },
     "metadata": {},
     "output_type": "display_data"
    },
    {
     "data": {
      "text/html": [
       "<pre style=\"white-space:pre;overflow-x:auto;line-height:normal;font-family:Menlo,'DejaVu Sans Mono',consolas,'Courier New',monospace\"><span style=\"font-weight: bold\"> Optimizer params: </span><span style=\"color: #00af00; text-decoration-color: #00af00\">2</span> (12.00 B)\n",
       "</pre>\n"
      ],
      "text/plain": [
       "\u001b[1m Optimizer params: \u001b[0m\u001b[38;5;34m2\u001b[0m (12.00 B)\n"
      ]
     },
     "metadata": {},
     "output_type": "display_data"
    }
   ],
   "source": [
    "# Load the pre-trained model with ReLU activation\n",
    "model = load_model('imdb_simple_rnn.h5')\n",
    "model.summary()"
   ]
  },
  {
   "cell_type": "code",
   "execution_count": 4,
   "id": "b1dca4e2-7659-44a8-9ca7-dd88fed642a7",
   "metadata": {},
   "outputs": [
    {
     "data": {
      "text/plain": [
       "[array([[-0.00528367, -0.02263169, -0.05361385, ...,  0.36194173,\n",
       "          0.00266018,  0.01713515],\n",
       "        [ 0.14439143,  0.0076581 ,  0.00854325, ...,  0.06183628,\n",
       "          0.01968641, -0.0532542 ],\n",
       "        [ 0.05133374, -0.0271141 , -0.01956176, ..., -0.01756998,\n",
       "          0.04982781, -0.00219324],\n",
       "        ...,\n",
       "        [-0.13231345, -0.09957204,  0.11351969, ...,  0.08711746,\n",
       "         -0.10132687,  0.09706706],\n",
       "        [ 0.07227274,  0.04080535, -0.06299058, ..., -0.00992851,\n",
       "          0.03751669, -0.05163299],\n",
       "        [-0.0530993 , -0.08608332,  0.04011055, ..., -0.0003635 ,\n",
       "         -0.03530532,  0.04761116]], dtype=float32),\n",
       " array([[-0.16676751, -0.0486698 , -0.06129621, ..., -0.14820428,\n",
       "          0.1535789 ,  0.02944295],\n",
       "        [ 0.0658353 ,  0.01235443, -0.08899824, ..., -0.07325211,\n",
       "         -0.00835635,  0.05111789],\n",
       "        [-0.14498143, -0.09701022, -0.09706665, ...,  0.06641628,\n",
       "         -0.09724136,  0.05455464],\n",
       "        ...,\n",
       "        [ 0.13315494,  0.08047156, -0.09301139, ..., -0.00509522,\n",
       "          0.04399129,  0.06144185],\n",
       "        [ 0.02145308,  0.06555456, -0.0292918 , ..., -0.07825059,\n",
       "          0.1404982 ,  0.08764601],\n",
       "        [-0.10272946,  0.05733081, -0.19670983, ...,  0.08340438,\n",
       "          0.13671099, -0.07124416]], dtype=float32),\n",
       " array([[-0.02331707,  0.00786807,  0.0379735 , ..., -0.14656146,\n",
       "         -0.04303532, -0.11763234],\n",
       "        [ 0.17863789,  0.02270707, -0.03083775, ..., -0.04811148,\n",
       "         -0.07540624, -0.05042673],\n",
       "        [ 0.01824888,  0.05181203, -0.09603506, ..., -0.00456155,\n",
       "         -0.06565686, -0.03885769],\n",
       "        ...,\n",
       "        [ 0.03521705, -0.01920244, -0.12562071, ...,  0.01838269,\n",
       "         -0.01963585, -0.09906578],\n",
       "        [ 0.02474663, -0.04201289,  0.02220479, ..., -0.02495038,\n",
       "          0.16236731, -0.0398296 ],\n",
       "        [-0.02344947, -0.01735275,  0.07333782, ...,  0.00908919,\n",
       "          0.10167637, -0.03738553]], dtype=float32),\n",
       " array([ 0.02222522, -0.00957975,  0.0078415 , -0.01465329, -0.00601675,\n",
       "         0.01108373, -0.0066163 ,  0.02944403,  0.03477391,  0.00062267,\n",
       "         0.0004353 , -0.00840261, -0.01133923, -0.00148527, -0.00948226,\n",
       "        -0.0258652 , -0.00126278, -0.01533173,  0.00121467, -0.02683872,\n",
       "        -0.01286187, -0.0137987 , -0.0198792 , -0.00257072, -0.01493427,\n",
       "         0.02052903,  0.02247588, -0.00940534, -0.00227655,  0.00856933,\n",
       "        -0.01032446, -0.00253964, -0.0068931 ,  0.01205695, -0.00159001,\n",
       "         0.00505362, -0.00698446, -0.00896759, -0.0176851 ,  0.00367658,\n",
       "        -0.00731289,  0.01615118, -0.02324677, -0.01008209,  0.00054795,\n",
       "        -0.00932093,  0.01363193,  0.02014867,  0.00102275,  0.00064046,\n",
       "        -0.01411468,  0.01134221,  0.00703726, -0.02060556,  0.01403085,\n",
       "         0.00801572, -0.02639931,  0.00847525,  0.02375398,  0.02054786,\n",
       "        -0.02135174, -0.02640849,  0.03875944, -0.00639307, -0.02255312,\n",
       "        -0.00105939,  0.01482715, -0.01375634,  0.010736  , -0.01296727,\n",
       "         0.02948882, -0.01538495,  0.01768126,  0.0044582 ,  0.02749215,\n",
       "        -0.01049576, -0.01137576,  0.03028595, -0.01133019, -0.01581868,\n",
       "         0.00389753, -0.00568926,  0.02330374,  0.00889027, -0.00099727,\n",
       "        -0.0195595 ,  0.0280626 , -0.01025968, -0.00917469, -0.01418223,\n",
       "        -0.01590135, -0.01587336,  0.01853415, -0.02627609, -0.03178428,\n",
       "        -0.01246995,  0.00065209,  0.02070703, -0.01692235, -0.01818189,\n",
       "         0.0043653 , -0.01580803, -0.00838654, -0.01193496,  0.02861831,\n",
       "        -0.01574333, -0.02285021, -0.00306637, -0.00704724, -0.01731284,\n",
       "         0.02262465,  0.00750614, -0.00534751,  0.0098558 , -0.00804031,\n",
       "         0.02051947, -0.00497631, -0.01364255,  0.00737489, -0.01380376,\n",
       "         0.00594076,  0.00632283, -0.0007616 ,  0.01564954,  0.00444859,\n",
       "        -0.01235099, -0.01027469,  0.01156109], dtype=float32),\n",
       " array([[ 0.6006825 ],\n",
       "        [-0.27645934],\n",
       "        [-0.1058206 ],\n",
       "        [-0.16229719],\n",
       "        [-0.02443472],\n",
       "        [ 0.02969679],\n",
       "        [ 0.22167137],\n",
       "        [ 0.11460104],\n",
       "        [-0.12544227],\n",
       "        [ 0.11443038],\n",
       "        [ 0.11428151],\n",
       "        [ 0.1208153 ],\n",
       "        [ 0.06376333],\n",
       "        [-0.14826147],\n",
       "        [ 0.01247977],\n",
       "        [ 0.0677236 ],\n",
       "        [-0.29703853],\n",
       "        [ 0.2054028 ],\n",
       "        [-0.01909997],\n",
       "        [-0.10860854],\n",
       "        [ 0.1028285 ],\n",
       "        [ 0.05575323],\n",
       "        [ 0.0654807 ],\n",
       "        [ 0.11601947],\n",
       "        [ 0.0607482 ],\n",
       "        [-0.0576423 ],\n",
       "        [-0.17425057],\n",
       "        [-0.06199493],\n",
       "        [-0.22531527],\n",
       "        [ 0.17074926],\n",
       "        [ 0.00730909],\n",
       "        [ 0.11793857],\n",
       "        [ 0.19399719],\n",
       "        [-0.17021008],\n",
       "        [-0.15866244],\n",
       "        [ 0.2671159 ],\n",
       "        [ 0.12303218],\n",
       "        [-0.07113501],\n",
       "        [-0.01137027],\n",
       "        [ 0.05988835],\n",
       "        [-0.03946095],\n",
       "        [-0.07925322],\n",
       "        [ 0.489674  ],\n",
       "        [ 0.07352365],\n",
       "        [ 0.14737087],\n",
       "        [-0.11002544],\n",
       "        [-0.02993341],\n",
       "        [-0.12700766],\n",
       "        [-0.18051665],\n",
       "        [-0.16216931],\n",
       "        [-0.14010148],\n",
       "        [ 0.3747491 ],\n",
       "        [ 0.02920902],\n",
       "        [-0.21111338],\n",
       "        [ 0.76999557],\n",
       "        [ 0.29122394],\n",
       "        [ 0.04277333],\n",
       "        [ 0.39069375],\n",
       "        [-0.20928179],\n",
       "        [ 0.12195409],\n",
       "        [-0.10729396],\n",
       "        [-0.19198805],\n",
       "        [-0.11956037],\n",
       "        [ 0.05324804],\n",
       "        [-0.00848707],\n",
       "        [ 0.16439828],\n",
       "        [ 0.29589853],\n",
       "        [ 0.054451  ],\n",
       "        [ 0.0146695 ],\n",
       "        [ 0.38511595],\n",
       "        [-0.12293701],\n",
       "        [ 0.0845018 ],\n",
       "        [-0.29922146],\n",
       "        [ 0.16692992],\n",
       "        [-0.20006597],\n",
       "        [-0.09679942],\n",
       "        [ 0.04942065],\n",
       "        [-0.1435458 ],\n",
       "        [ 0.01152794],\n",
       "        [ 0.38033894],\n",
       "        [ 0.01362653],\n",
       "        [ 0.13495451],\n",
       "        [-0.16586456],\n",
       "        [ 0.15571037],\n",
       "        [ 0.6682791 ],\n",
       "        [-0.06742791],\n",
       "        [ 0.752455  ],\n",
       "        [ 0.19206181],\n",
       "        [-0.1191434 ],\n",
       "        [ 0.07386683],\n",
       "        [ 0.03888781],\n",
       "        [-0.04845398],\n",
       "        [ 0.02910884],\n",
       "        [ 0.17513649],\n",
       "        [-0.17621472],\n",
       "        [ 0.15175019],\n",
       "        [-0.12860514],\n",
       "        [ 0.01464008],\n",
       "        [ 0.10241615],\n",
       "        [ 0.34696594],\n",
       "        [ 0.70307714],\n",
       "        [ 0.19586329],\n",
       "        [ 0.15396939],\n",
       "        [ 0.14507611],\n",
       "        [-0.10932234],\n",
       "        [ 0.10188065],\n",
       "        [ 0.04587205],\n",
       "        [ 0.16025664],\n",
       "        [-0.08038694],\n",
       "        [ 0.18790464],\n",
       "        [-0.09162749],\n",
       "        [ 0.10162897],\n",
       "        [ 0.07107893],\n",
       "        [ 0.93284786],\n",
       "        [-0.0436546 ],\n",
       "        [-0.19811076],\n",
       "        [ 0.17490698],\n",
       "        [ 0.15489371],\n",
       "        [ 0.01837509],\n",
       "        [ 0.10161024],\n",
       "        [-0.10065228],\n",
       "        [ 0.00699047],\n",
       "        [-0.1346269 ],\n",
       "        [ 0.961137  ],\n",
       "        [ 0.08511638],\n",
       "        [ 0.07337239],\n",
       "        [-0.14100999],\n",
       "        [ 0.07244002]], dtype=float32),\n",
       " array([0.3554241], dtype=float32)]"
      ]
     },
     "execution_count": 4,
     "metadata": {},
     "output_type": "execute_result"
    }
   ],
   "source": [
    "model.get_weights()"
   ]
  },
  {
   "cell_type": "code",
   "execution_count": 5,
   "id": "214dced6-2c24-4697-96ef-c26e1e403f1d",
   "metadata": {},
   "outputs": [],
   "source": [
    "# Function to decode reviews\n",
    "def decode_review(encoded_review):\n",
    "    return ' '.join([reverse_word_index.get(i - 3, '?') for i in encoded_review])\n",
    "\n",
    "# Function to preprocess user input\n",
    "def preprocess_text(text):\n",
    "    words = text.lower().split()\n",
    "    encoded_review = [word_index.get(word, 2) + 3 for word in words]\n",
    "    padded_review = sequence.pad_sequences([encoded_review], maxlen=500)\n",
    "    return padded_review"
   ]
  },
  {
   "cell_type": "code",
   "execution_count": 6,
   "id": "b74640a5-b507-44c6-9510-8d149380de5f",
   "metadata": {},
   "outputs": [],
   "source": [
    "# Prediction  function\n",
    "def predict_sentiment(review):\n",
    "    preprocessed_input=preprocess_text(review)\n",
    "\n",
    "    prediction=model.predict(preprocessed_input)\n",
    "\n",
    "    sentiment = 'Positive' if prediction[0][0] > 0.5 else 'Negative'\n",
    "    \n",
    "    return sentiment, prediction[0][0]"
   ]
  },
  {
   "cell_type": "code",
   "execution_count": 16,
   "id": "484fc0d2-13bf-46bb-8205-e6a48d279cc5",
   "metadata": {},
   "outputs": [
    {
     "name": "stdout",
     "output_type": "stream",
     "text": [
      "\u001b[1m1/1\u001b[0m \u001b[32m━━━━━━━━━━━━━━━━━━━━\u001b[0m\u001b[37m\u001b[0m \u001b[1m0s\u001b[0m 30ms/step\n",
      "Review: This movie was very good!\n",
      "Sentiment: Positive\n",
      "Prediction Score: 0.6447073817253113\n"
     ]
    }
   ],
   "source": [
    "# Example review for prediction\n",
    "example_review = \"This movie was very good!\"\n",
    "\n",
    "sentiment,score=predict_sentiment(example_review)\n",
    "\n",
    "print(f'Review: {example_review}')\n",
    "print(f'Sentiment: {sentiment}')\n",
    "print(f'Prediction Score: {score}')"
   ]
  }
 ],
 "metadata": {
  "kernelspec": {
   "display_name": "Python (3.12.5)",
   "language": "python",
   "name": "3.12.5"
  },
  "language_info": {
   "codemirror_mode": {
    "name": "ipython",
    "version": 3
   },
   "file_extension": ".py",
   "mimetype": "text/x-python",
   "name": "python",
   "nbconvert_exporter": "python",
   "pygments_lexer": "ipython3",
   "version": "3.12.5"
  }
 },
 "nbformat": 4,
 "nbformat_minor": 5
}
